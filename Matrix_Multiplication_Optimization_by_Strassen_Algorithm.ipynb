{
  "nbformat": 4,
  "nbformat_minor": 0,
  "metadata": {
    "colab": {
      "provenance": [],
      "authorship_tag": "ABX9TyMtH4mItwnfHztWOWPWxQXH",
      "include_colab_link": true
    },
    "kernelspec": {
      "name": "python3",
      "display_name": "Python 3"
    },
    "language_info": {
      "name": "python"
    }
  },
  "cells": [
    {
      "cell_type": "markdown",
      "metadata": {
        "id": "view-in-github",
        "colab_type": "text"
      },
      "source": [
        "<a href=\"https://colab.research.google.com/github/sudiptiwari/matrix-multiplication-optimization/blob/main/Matrix_Multiplication_Optimization_by_Strassen_Algorithm.ipynb\" target=\"_parent\"><img src=\"https://colab.research.google.com/assets/colab-badge.svg\" alt=\"Open In Colab\"/></a>"
      ]
    },
    {
      "cell_type": "code",
      "execution_count": 21,
      "metadata": {
        "id": "eyv-8N9l_fk1"
      },
      "outputs": [],
      "source": [
        "import numpy as np\n",
        "import math\n",
        "import time"
      ]
    },
    {
      "cell_type": "markdown",
      "source": [
        "## Splitting the Matrix into 4 blocks"
      ],
      "metadata": {
        "id": "IvzcwGnLDB84"
      }
    },
    {
      "cell_type": "code",
      "source": [
        "def split_matrix(matrix : np.matrix):\n",
        "  \"\"\"\n",
        "  Splits the matrix into 4 parts\n",
        "  ( A11 | A12 )\n",
        "  -------------\n",
        "  ( A21 | A22 )\n",
        "  \"\"\"\n",
        "  row, column = matrix.shape\n",
        "  mid_row = row // 2 # Integer Division to get the mid-point\n",
        "  mid_column = column // 2 # Integer Division to get the mid-point\n",
        "  return matrix[:mid_row, :mid_column], matrix[:mid_row, mid_column:], matrix[mid_row:, :mid_column], matrix[mid_row:, mid_column:]"
      ],
      "metadata": {
        "id": "peIHtg5I_rKV"
      },
      "execution_count": 7,
      "outputs": []
    },
    {
      "cell_type": "code",
      "source": [
        "A, B, C, D = split_matrix(np.matrix([\n",
        "    [1,2,3,4],\n",
        "    [3,4,5,6],\n",
        "    [5,6,7,8],\n",
        "    [8,9,10,11]\n",
        "]))\n",
        "\n",
        "print(\"A11: \\n\",A)\n",
        "print(\"A12: \\n\",B)\n",
        "print(\"A21: \\n\",C)\n",
        "print(\"A22: \\n\",D)"
      ],
      "metadata": {
        "colab": {
          "base_uri": "https://localhost:8080/"
        },
        "id": "yRc9OJYhCgJN",
        "outputId": "d5a9f517-acf6-4e2b-a687-49b8ba537a3b"
      },
      "execution_count": 8,
      "outputs": [
        {
          "output_type": "stream",
          "name": "stdout",
          "text": [
            "A11: \n",
            " [[1 2]\n",
            " [3 4]]\n",
            "A12: \n",
            " [[3 4]\n",
            " [5 6]]\n",
            "A21: \n",
            " [[5 6]\n",
            " [8 9]]\n",
            "A22: \n",
            " [[ 7  8]\n",
            " [10 11]]\n"
          ]
        }
      ]
    },
    {
      "cell_type": "markdown",
      "source": [
        "## Implementation of Strassen's Algorithm"
      ],
      "metadata": {
        "id": "jcX1lAcRDyd_"
      }
    },
    {
      "cell_type": "code",
      "source": [
        "def multiplication_by_strassen_method(A : np.matrix, B: np.matrix):\n",
        "  \"\"\"\n",
        "  Recursive Multiplication of two matrices A and B\n",
        "  \"\"\"\n",
        "  if (A.shape == B.shape == (1,1)):\n",
        "    return A * B\n",
        "\n",
        "  # Splitting the matrix into Four Blocks (sub-matrices) : A11, A12, A21, A22\n",
        "  A11, A12, A21, A22 = split_matrix(A)\n",
        "  B11, B12, B21, B22 = split_matrix(B)\n",
        "\n",
        "  # Perform 7 multiplications\n",
        "  P1 = multiplication_by_strassen_method(A11 + A22, B11 + B22)  # P1 = (A11 + A22) * (B11 + B22)\n",
        "  P2 = multiplication_by_strassen_method(A21 + A22, B11)        # P2 = (A21 + A22) * B11\n",
        "  P3 = multiplication_by_strassen_method(A11, B12 - B22)        # P3 = A11 * (B12 - B22)\n",
        "  P4 = multiplication_by_strassen_method(A22, B21 - B11)        # P4 = A22 * (B21 - B11)\n",
        "  P5 = multiplication_by_strassen_method(A11 + A12, B22)        # P5 = (A11 + A12) * B22\n",
        "  P6 = multiplication_by_strassen_method(A21 - A11, B11 + B12)  # P6 = (A21 - A11) * (B11 + B12)\n",
        "  P7 = multiplication_by_strassen_method(A12 - A22, B21 + B22)  # P7 = (A12 - A22) * (B21 + B22)\n",
        "\n",
        "  # Combine the 7 multiplications to get the answer(for each block)\n",
        "  C11 = P1 + P4 - P5 + P7\n",
        "  C12 = P3 + P5\n",
        "  C21 = P2 + P4\n",
        "  C22 = P1 + P3 - P2 + P6\n",
        "\n",
        "  # Merge the blocks(sub-matrices) into single Matrix\n",
        "  C_upper = np.hstack((C11, C12))\n",
        "  C_lower = np.hstack((C21, C22))\n",
        "  C_final_result = np.vstack((C_upper, C_lower))\n",
        "  return C_final_result"
      ],
      "metadata": {
        "id": "qDvzM2KIDRWB"
      },
      "execution_count": 9,
      "outputs": []
    },
    {
      "cell_type": "markdown",
      "source": [
        "## Perform padding to ensure 2^n dimension of two Square Matrix Inputs\n",
        "- Ask Square matrix with same dimensions(any dimensions) as input.\n",
        "- Convert the Square Matrices into the dimension of 2^k by padding."
      ],
      "metadata": {
        "id": "saaz0XySGaS4"
      }
    },
    {
      "cell_type": "code",
      "source": [
        "def perform_padding_and_matrix_multiplication_by_strassen_method(A : np.matrix, B : np.matrix):\n",
        "  \"\"\"\n",
        "  Pre-process the Input Matrices so that their dimension is in the form of 2^k by performing padding.\n",
        "  Also ensure that both the Matrices have same dimension of 2^k.\n",
        "  \"\"\"\n",
        "\n",
        "  # Ask/Ensure Square matrix with same dimensions as Input\n",
        "  if( (A.shape[0] != A.shape[1]) or (B.shape[0] != B.shape[1]) or (A.shape != B.shape) ):\n",
        "    print(\"Please enter square matrix with same dimensions.\")\n",
        "    return\n",
        "\n",
        "  # Padding is done if the matrices are not in the form 2^k\n",
        "  number_of_rows_initial = A.shape[0]\n",
        "  next_power_of_2_greater_than_number_of_rows_initial = 2 ** math.ceil(math.log2(number_of_rows_initial))\n",
        "\n",
        "  # Renaming for Simplicity in code\n",
        "  n = number_of_rows_initial\n",
        "  m = next_power_of_2_greater_than_number_of_rows_initial\n",
        "\n",
        "  A_pad = np.pad(A, ((0, m - n), (0, m - n)), mode='constant', constant_values=0)\n",
        "  B_pad = np.pad(B, ((0, m - n), (0, m - n)), mode='constant', constant_values=0)\n",
        "\n",
        "  C_pad = multiplication_by_strassen_method(A_pad, B_pad)\n",
        "\n",
        "  # Removing the padding before returning\n",
        "  return C_pad[:n, :n]"
      ],
      "metadata": {
        "id": "MN6LikWfGOTJ"
      },
      "execution_count": 16,
      "outputs": []
    },
    {
      "cell_type": "code",
      "source": [
        "# Sample 4*4 matrices\n",
        "A = np.array([[1, 2, 3, 4],\n",
        "              [5, 6, 7, 8],\n",
        "              [9, 10, 11, 12],\n",
        "              [13, 14, 15, 16]])\n",
        "\n",
        "B = np.array([[16, 15, 14, 13],\n",
        "              [12, 11, 10, 9],\n",
        "              [8, 7, 6, 5],\n",
        "              [4, 3, 2, 1]])\n",
        "\n",
        "# Perform Strassen matrix multiplication\n",
        "start_time = time.time()\n",
        "result = perform_padding_and_matrix_multiplication_by_strassen_method(A, B)\n",
        "end_time = time.time()\n",
        "strassen_time = end_time - start_time\n",
        "\n",
        "print(\"Matrix A:\\n\", A)\n",
        "print(\"Matrix B:\\n\", B)\n",
        "print(\"Result of Strassen Multiplication:\\n\", result)\n",
        "print(f\"Time taken by Strassen's method: {strassen_time} seconds\\n\")"
      ],
      "metadata": {
        "colab": {
          "base_uri": "https://localhost:8080/"
        },
        "id": "pdH_hg3OG5Sa",
        "outputId": "9aea66eb-4f8e-4645-e4e7-b1cf25837c5a"
      },
      "execution_count": 22,
      "outputs": [
        {
          "output_type": "stream",
          "name": "stdout",
          "text": [
            "Matrix A:\n",
            " [[ 1  2  3  4]\n",
            " [ 5  6  7  8]\n",
            " [ 9 10 11 12]\n",
            " [13 14 15 16]]\n",
            "Matrix B:\n",
            " [[16 15 14 13]\n",
            " [12 11 10  9]\n",
            " [ 8  7  6  5]\n",
            " [ 4  3  2  1]]\n",
            "Result of Strassen Multiplication:\n",
            " [[ 80  70  60  50]\n",
            " [240 214 188 162]\n",
            " [400 358 316 274]\n",
            " [560 502 444 386]]\n",
            "Time taken by Strassen's method: 0.0013666152954101562 seconds\n",
            "\n"
          ]
        }
      ]
    },
    {
      "cell_type": "markdown",
      "source": [
        "## Perform Matrix Multiplication by Naive Algorithm"
      ],
      "metadata": {
        "id": "uZweEKpRMgiB"
      }
    },
    {
      "cell_type": "code",
      "source": [
        "def naive_matrix_multiplication(A : np.matrix, B : np.matrix):\n",
        "    \"\"\"\n",
        "    Perform naive matrix multiplication of matrices A and B.\n",
        "    \"\"\"\n",
        "    n = len(A)\n",
        "    C = np.zeros((n, n))\n",
        "\n",
        "    for i in range(n):\n",
        "        for j in range(n):\n",
        "            for k in range(n):\n",
        "                C[i][j] += A[i][k] * B[k][j]\n",
        "\n",
        "    return C"
      ],
      "metadata": {
        "id": "h0aq5vFLMgPw"
      },
      "execution_count": 26,
      "outputs": []
    },
    {
      "cell_type": "code",
      "source": [
        "start_time = time.time()\n",
        "result_by_naive_method = naive_matrix_multiplication(A,B)\n",
        "end_time = time.time()\n",
        "naive_method_time = end_time - start_time\n",
        "\n",
        "print(\"Matrix A:\\n\", A)\n",
        "print(\"Matrix B:\\n\", B)\n",
        "print(\"Result of In-built Multiplication:\\n\", result_by_naive_method)\n",
        "print(f\"Time taken by Naive Matrix Multiplication Method: {naive_method_time} seconds\\n\")"
      ],
      "metadata": {
        "colab": {
          "base_uri": "https://localhost:8080/"
        },
        "id": "nIUjV4P7MsAo",
        "outputId": "87e8817d-acfe-41fd-eaf0-1db470462a52"
      },
      "execution_count": 28,
      "outputs": [
        {
          "output_type": "stream",
          "name": "stdout",
          "text": [
            "Matrix A:\n",
            " [[ 1  2  3  4]\n",
            " [ 5  6  7  8]\n",
            " [ 9 10 11 12]\n",
            " [13 14 15 16]]\n",
            "Matrix B:\n",
            " [[16 15 14 13]\n",
            " [12 11 10  9]\n",
            " [ 8  7  6  5]\n",
            " [ 4  3  2  1]]\n",
            "Result of In-built Multiplication:\n",
            " [[ 80.  70.  60.  50.]\n",
            " [240. 214. 188. 162.]\n",
            " [400. 358. 316. 274.]\n",
            " [560. 502. 444. 386.]]\n",
            "Time taken by Naive Matrix Multiplication Method: 0.00034809112548828125 seconds\n",
            "\n"
          ]
        }
      ]
    },
    {
      "cell_type": "markdown",
      "source": [
        "## Perform Matrix Multiplication by Inbuilt NumPy method"
      ],
      "metadata": {
        "id": "W8aTz26MMGfI"
      }
    },
    {
      "cell_type": "code",
      "source": [
        "start_time = time.time()\n",
        "result_by_numpy_inbuilt_method = A@B\n",
        "end_time = time.time()\n",
        "numpy_time = end_time - start_time\n",
        "\n",
        "print(\"Matrix A:\\n\", A)\n",
        "print(\"Matrix B:\\n\", B)\n",
        "print(\"Result of In-built Multiplication:\\n\", result_by_numpy_inbuilt_method)\n",
        "print(f\"Time taken by NumPy's in-built method: {numpy_time} seconds\\n\")"
      ],
      "metadata": {
        "colab": {
          "base_uri": "https://localhost:8080/"
        },
        "id": "B9mIz4kxKXZ0",
        "outputId": "bf637b6d-4a7e-4258-c379-f5f6231b1f88"
      },
      "execution_count": 23,
      "outputs": [
        {
          "output_type": "stream",
          "name": "stdout",
          "text": [
            "Matrix A:\n",
            " [[ 1  2  3  4]\n",
            " [ 5  6  7  8]\n",
            " [ 9 10 11 12]\n",
            " [13 14 15 16]]\n",
            "Matrix B:\n",
            " [[16 15 14 13]\n",
            " [12 11 10  9]\n",
            " [ 8  7  6  5]\n",
            " [ 4  3  2  1]]\n",
            "Result of In-built Multiplication:\n",
            " [[ 80  70  60  50]\n",
            " [240 214 188 162]\n",
            " [400 358 316 274]\n",
            " [560 502 444 386]]\n",
            "Time taken by NumPy's in-built method: 0.00015616416931152344 seconds\n",
            "\n"
          ]
        }
      ]
    },
    {
      "cell_type": "code",
      "source": [],
      "metadata": {
        "id": "ber0r_CdLI4q"
      },
      "execution_count": null,
      "outputs": []
    }
  ]
}